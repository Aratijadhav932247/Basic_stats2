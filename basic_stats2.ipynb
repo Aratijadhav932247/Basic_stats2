{
 "cells": [
  {
   "cell_type": "code",
   "execution_count": 1,
   "id": "6df8c9f2-327c-496d-ac4d-03f7a8ba8130",
   "metadata": {},
   "outputs": [],
   "source": [
    "import pandas as pd\n",
    "import numpy as np\n",
    "import matplotlib.pyplot as plt\n",
    "import seaborn as sns"
   ]
  },
  {
   "cell_type": "code",
   "execution_count": 3,
   "id": "e10913b8-8f57-4388-8c63-3169e5d40920",
   "metadata": {},
   "outputs": [
    {
     "name": "stdout",
     "output_type": "stream",
     "text": [
      "Sample Mean: 1.2386666666666666\n",
      "Sample Standard Deviation: 0.19316412956959936\n"
     ]
    }
   ],
   "source": [
    "\n",
    "\n",
    "data = [1.13, 1.55, 1.43, 0.92, 1.25, 1.36, 1.32, 0.85, 1.07, 1.48, 1.20, 1.33, 1.18, 1.22, 1.29]\n",
    "mean = np.mean(data)\n",
    "std_dev = np.std(data, ddof=1)  # Sample standard deviation\n",
    "\n",
    "print(f\"Sample Mean: {mean}\")\n",
    "print(f\"Sample Standard Deviation: {std_dev}\")\n"
   ]
  },
  {
   "cell_type": "markdown",
   "id": "b9029d0c-d0fd-4a30-b899-e1401cf52d63",
   "metadata": {},
   "source": [
    "we don't have the  standerd daviation in the problem\n",
    "and the sample size is very small thats why i am goint with t-distribution insted if normal  distribution "
   ]
  },
  {
   "cell_type": "code",
   "execution_count": 5,
   "id": "a8bf236c-2161-4a54-ab47-667dc798d216",
   "metadata": {},
   "outputs": [
    {
     "name": "stdout",
     "output_type": "stream",
     "text": [
      "T-value: 2.976842734370834\n"
     ]
    }
   ],
   "source": [
    "from scipy.stats import t\n",
    "\n",
    "# 99% confidence interval, so alpha = 0.01 (1% in two tails)\n",
    "confidence_level = 0.99\n",
    "alpha = 1 - confidence_level\n",
    "df = 14  # degrees of freedom\n",
    "\n",
    "t_value = t.ppf(1 - alpha / 2, df)  # t-value for two-tailed\n",
    "print(f\"T-value: {t_value}\")\n"
   ]
  },
  {
   "cell_type": "markdown",
   "id": "ec68bcfa-5d88-438d-9ab3-e4cd8b9ebf0a",
   "metadata": {},
   "source": [
    "usinf the 99% of confidence_level t_test is 2.97"
   ]
  },
  {
   "cell_type": "code",
   "execution_count": null,
   "id": "5c089cc8-3042-4002-9ee2-cd10ef447a22",
   "metadata": {},
   "outputs": [],
   "source": []
  }
 ],
 "metadata": {
  "kernelspec": {
   "display_name": "Python 3 (ipykernel)",
   "language": "python",
   "name": "python3"
  },
  "language_info": {
   "codemirror_mode": {
    "name": "ipython",
    "version": 3
   },
   "file_extension": ".py",
   "mimetype": "text/x-python",
   "name": "python",
   "nbconvert_exporter": "python",
   "pygments_lexer": "ipython3",
   "version": "3.12.4"
  }
 },
 "nbformat": 4,
 "nbformat_minor": 5
}
